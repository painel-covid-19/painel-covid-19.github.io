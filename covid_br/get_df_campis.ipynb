{
 "cells": [
  {
   "cell_type": "code",
   "execution_count": 1,
   "id": "65e15062",
   "metadata": {},
   "outputs": [],
   "source": [
    "import pandas as pd"
   ]
  },
  {
   "cell_type": "code",
   "execution_count": 32,
   "id": "a6a2a26a",
   "metadata": {},
   "outputs": [
    {
     "name": "stdout",
     "output_type": "stream",
     "text": [
      "CPU times: user 2 µs, sys: 1e+03 ns, total: 3 µs\n",
      "Wall time: 3.34 µs\n"
     ]
    }
   ],
   "source": [
    "df_cases = pd.read_csv(\"cases-brazil-cities-time.csv\")"
   ]
  },
  {
   "cell_type": "code",
   "execution_count": 34,
   "id": "e8371bea",
   "metadata": {},
   "outputs": [
    {
     "data": {
      "text/html": [
       "<div>\n",
       "<style scoped>\n",
       "    .dataframe tbody tr th:only-of-type {\n",
       "        vertical-align: middle;\n",
       "    }\n",
       "\n",
       "    .dataframe tbody tr th {\n",
       "        vertical-align: top;\n",
       "    }\n",
       "\n",
       "    .dataframe thead th {\n",
       "        text-align: right;\n",
       "    }\n",
       "</style>\n",
       "<table border=\"1\" class=\"dataframe\">\n",
       "  <thead>\n",
       "    <tr style=\"text-align: right;\">\n",
       "      <th></th>\n",
       "      <th>epi_week</th>\n",
       "      <th>date</th>\n",
       "      <th>state</th>\n",
       "      <th>city</th>\n",
       "      <th>ibgeID</th>\n",
       "      <th>newDeaths</th>\n",
       "      <th>deaths</th>\n",
       "      <th>newCases</th>\n",
       "      <th>totalCases</th>\n",
       "      <th>deaths_per_100k_inhabitants</th>\n",
       "      <th>totalCases_per_100k_inhabitants</th>\n",
       "      <th>deaths_by_totalCases</th>\n",
       "    </tr>\n",
       "  </thead>\n",
       "  <tbody>\n",
       "    <tr>\n",
       "      <th>0</th>\n",
       "      <td>9</td>\n",
       "      <td>2020-02-25</td>\n",
       "      <td>SP</td>\n",
       "      <td>São Paulo/SP</td>\n",
       "      <td>3550308</td>\n",
       "      <td>0</td>\n",
       "      <td>0</td>\n",
       "      <td>1</td>\n",
       "      <td>1</td>\n",
       "      <td>0.0</td>\n",
       "      <td>0.008</td>\n",
       "      <td>0.0</td>\n",
       "    </tr>\n",
       "    <tr>\n",
       "      <th>1</th>\n",
       "      <td>9</td>\n",
       "      <td>2020-02-25</td>\n",
       "      <td>TOTAL</td>\n",
       "      <td>TOTAL</td>\n",
       "      <td>0</td>\n",
       "      <td>0</td>\n",
       "      <td>0</td>\n",
       "      <td>1</td>\n",
       "      <td>1</td>\n",
       "      <td>0.0</td>\n",
       "      <td>0.000</td>\n",
       "      <td>0.0</td>\n",
       "    </tr>\n",
       "    <tr>\n",
       "      <th>2</th>\n",
       "      <td>9</td>\n",
       "      <td>2020-02-26</td>\n",
       "      <td>SP</td>\n",
       "      <td>São Paulo/SP</td>\n",
       "      <td>3550308</td>\n",
       "      <td>0</td>\n",
       "      <td>0</td>\n",
       "      <td>0</td>\n",
       "      <td>1</td>\n",
       "      <td>0.0</td>\n",
       "      <td>0.008</td>\n",
       "      <td>0.0</td>\n",
       "    </tr>\n",
       "    <tr>\n",
       "      <th>3</th>\n",
       "      <td>9</td>\n",
       "      <td>2020-02-26</td>\n",
       "      <td>TOTAL</td>\n",
       "      <td>TOTAL</td>\n",
       "      <td>0</td>\n",
       "      <td>0</td>\n",
       "      <td>0</td>\n",
       "      <td>0</td>\n",
       "      <td>1</td>\n",
       "      <td>0.0</td>\n",
       "      <td>0.000</td>\n",
       "      <td>0.0</td>\n",
       "    </tr>\n",
       "    <tr>\n",
       "      <th>4</th>\n",
       "      <td>9</td>\n",
       "      <td>2020-02-27</td>\n",
       "      <td>SP</td>\n",
       "      <td>São Paulo/SP</td>\n",
       "      <td>3550308</td>\n",
       "      <td>0</td>\n",
       "      <td>0</td>\n",
       "      <td>0</td>\n",
       "      <td>1</td>\n",
       "      <td>0.0</td>\n",
       "      <td>0.008</td>\n",
       "      <td>0.0</td>\n",
       "    </tr>\n",
       "  </tbody>\n",
       "</table>\n",
       "</div>"
      ],
      "text/plain": [
       "   epi_week        date  state          city   ibgeID  newDeaths  deaths  \\\n",
       "0         9  2020-02-25     SP  São Paulo/SP  3550308          0       0   \n",
       "1         9  2020-02-25  TOTAL         TOTAL        0          0       0   \n",
       "2         9  2020-02-26     SP  São Paulo/SP  3550308          0       0   \n",
       "3         9  2020-02-26  TOTAL         TOTAL        0          0       0   \n",
       "4         9  2020-02-27     SP  São Paulo/SP  3550308          0       0   \n",
       "\n",
       "   newCases  totalCases  deaths_per_100k_inhabitants  \\\n",
       "0         1           1                          0.0   \n",
       "1         1           1                          0.0   \n",
       "2         0           1                          0.0   \n",
       "3         0           1                          0.0   \n",
       "4         0           1                          0.0   \n",
       "\n",
       "   totalCases_per_100k_inhabitants  deaths_by_totalCases  \n",
       "0                            0.008                   0.0  \n",
       "1                            0.000                   0.0  \n",
       "2                            0.008                   0.0  \n",
       "3                            0.000                   0.0  \n",
       "4                            0.008                   0.0  "
      ]
     },
     "execution_count": 34,
     "metadata": {},
     "output_type": "execute_result"
    }
   ],
   "source": [
    "df_cases.head()"
   ]
  },
  {
   "cell_type": "code",
   "execution_count": 51,
   "id": "30b1d6d3",
   "metadata": {},
   "outputs": [],
   "source": [
    "columns = [\"city\", \"ibgeID\", \"date\", \"totalCases\", \"totalCases_per_100k_inhabitants\", \"deaths\", \"newCases\", \"newDeaths\"]\n",
    "df_campis = df_cases[(df_cases[\"city\"] == \"Acarape/CE\") | (df_cases[\"city\"] == \"Redenção/CE\") | (df_cases[\"city\"] == \"São Francisco do Conde/BA\")][columns]"
   ]
  },
  {
   "cell_type": "code",
   "execution_count": 52,
   "id": "1d9336b8",
   "metadata": {},
   "outputs": [
    {
     "data": {
      "text/plain": [
       "(2190, 8)"
      ]
     },
     "execution_count": 52,
     "metadata": {},
     "output_type": "execute_result"
    }
   ],
   "source": [
    "df_campis.shape"
   ]
  },
  {
   "cell_type": "code",
   "execution_count": 55,
   "id": "ccf70d2d",
   "metadata": {
    "scrolled": true
   },
   "outputs": [
    {
     "data": {
      "text/html": [
       "<div>\n",
       "<style scoped>\n",
       "    .dataframe tbody tr th:only-of-type {\n",
       "        vertical-align: middle;\n",
       "    }\n",
       "\n",
       "    .dataframe tbody tr th {\n",
       "        vertical-align: top;\n",
       "    }\n",
       "\n",
       "    .dataframe thead th {\n",
       "        text-align: right;\n",
       "    }\n",
       "</style>\n",
       "<table border=\"1\" class=\"dataframe\">\n",
       "  <thead>\n",
       "    <tr style=\"text-align: right;\">\n",
       "      <th></th>\n",
       "      <th>city</th>\n",
       "      <th>ibgeID</th>\n",
       "      <th>date</th>\n",
       "      <th>totalCases</th>\n",
       "      <th>totalCases_per_100k_inhabitants</th>\n",
       "      <th>deaths</th>\n",
       "      <th>newCases</th>\n",
       "      <th>newDeaths</th>\n",
       "    </tr>\n",
       "  </thead>\n",
       "  <tbody>\n",
       "    <tr>\n",
       "      <th>6890</th>\n",
       "      <td>São Francisco do Conde/BA</td>\n",
       "      <td>2929206</td>\n",
       "      <td>2020-04-06</td>\n",
       "      <td>1</td>\n",
       "      <td>2.459</td>\n",
       "      <td>0</td>\n",
       "      <td>1</td>\n",
       "      <td>0</td>\n",
       "    </tr>\n",
       "    <tr>\n",
       "      <th>7642</th>\n",
       "      <td>São Francisco do Conde/BA</td>\n",
       "      <td>2929206</td>\n",
       "      <td>2020-04-07</td>\n",
       "      <td>1</td>\n",
       "      <td>2.459</td>\n",
       "      <td>0</td>\n",
       "      <td>0</td>\n",
       "      <td>0</td>\n",
       "    </tr>\n",
       "    <tr>\n",
       "      <th>8456</th>\n",
       "      <td>São Francisco do Conde/BA</td>\n",
       "      <td>2929206</td>\n",
       "      <td>2020-04-08</td>\n",
       "      <td>1</td>\n",
       "      <td>2.459</td>\n",
       "      <td>0</td>\n",
       "      <td>0</td>\n",
       "      <td>0</td>\n",
       "    </tr>\n",
       "    <tr>\n",
       "      <th>9327</th>\n",
       "      <td>São Francisco do Conde/BA</td>\n",
       "      <td>2929206</td>\n",
       "      <td>2020-04-09</td>\n",
       "      <td>1</td>\n",
       "      <td>2.459</td>\n",
       "      <td>0</td>\n",
       "      <td>0</td>\n",
       "      <td>0</td>\n",
       "    </tr>\n",
       "    <tr>\n",
       "      <th>10238</th>\n",
       "      <td>São Francisco do Conde/BA</td>\n",
       "      <td>2929206</td>\n",
       "      <td>2020-04-10</td>\n",
       "      <td>1</td>\n",
       "      <td>2.459</td>\n",
       "      <td>0</td>\n",
       "      <td>0</td>\n",
       "      <td>0</td>\n",
       "    </tr>\n",
       "  </tbody>\n",
       "</table>\n",
       "</div>"
      ],
      "text/plain": [
       "                            city   ibgeID        date  totalCases  \\\n",
       "6890   São Francisco do Conde/BA  2929206  2020-04-06           1   \n",
       "7642   São Francisco do Conde/BA  2929206  2020-04-07           1   \n",
       "8456   São Francisco do Conde/BA  2929206  2020-04-08           1   \n",
       "9327   São Francisco do Conde/BA  2929206  2020-04-09           1   \n",
       "10238  São Francisco do Conde/BA  2929206  2020-04-10           1   \n",
       "\n",
       "       totalCases_per_100k_inhabitants  deaths  newCases  newDeaths  \n",
       "6890                             2.459       0         1          0  \n",
       "7642                             2.459       0         0          0  \n",
       "8456                             2.459       0         0          0  \n",
       "9327                             2.459       0         0          0  \n",
       "10238                            2.459       0         0          0  "
      ]
     },
     "execution_count": 55,
     "metadata": {},
     "output_type": "execute_result"
    }
   ],
   "source": [
    "df_campis.head()"
   ]
  },
  {
   "cell_type": "code",
   "execution_count": 57,
   "id": "ba20db3f",
   "metadata": {},
   "outputs": [
    {
     "data": {
      "text/plain": [
       "Index(['city', 'ibgeID', 'date', 'totalCases',\n",
       "       'totalCases_per_100k_inhabitants', 'deaths', 'newCases', 'newDeaths'],\n",
       "      dtype='object')"
      ]
     },
     "execution_count": 57,
     "metadata": {},
     "output_type": "execute_result"
    }
   ],
   "source": [
    "df_campis.columns"
   ]
  },
  {
   "cell_type": "code",
   "execution_count": 58,
   "id": "dcaea1c6",
   "metadata": {},
   "outputs": [],
   "source": [
    "df_campis.columns = [\"city\", \"city_ibge_code\", \"date\", \"last_available_confirmed\", \"last_available_confirmed_per_100k_inhabitants\", \"last_available_deaths\", \"new_confirmed\", \"new_deaths\"]"
   ]
  },
  {
   "cell_type": "code",
   "execution_count": 59,
   "id": "48b90515",
   "metadata": {},
   "outputs": [
    {
     "data": {
      "text/plain": [
       "Index(['city', 'city_ibge_code', 'date', 'last_available_confirmed',\n",
       "       'last_available_confirmed_per_100k_inhabitants',\n",
       "       'last_available_deaths', 'new_confirmed', 'new_deaths'],\n",
       "      dtype='object')"
      ]
     },
     "execution_count": 59,
     "metadata": {},
     "output_type": "execute_result"
    }
   ],
   "source": [
    "df_campis.columns"
   ]
  },
  {
   "cell_type": "code",
   "execution_count": 61,
   "id": "4a929dc9",
   "metadata": {},
   "outputs": [
    {
     "data": {
      "text/plain": [
       "(2190, 8)"
      ]
     },
     "execution_count": 61,
     "metadata": {},
     "output_type": "execute_result"
    }
   ],
   "source": [
    "df_campis.shape"
   ]
  },
  {
   "cell_type": "code",
   "execution_count": 62,
   "id": "a7daa5ec",
   "metadata": {},
   "outputs": [],
   "source": [
    "df_campis = df_campis.sort_values(by=\"city\")"
   ]
  },
  {
   "cell_type": "code",
   "execution_count": 63,
   "id": "8dd24fca",
   "metadata": {},
   "outputs": [],
   "source": [
    "df_Acarape = df_campis[df_campis[\"city\"] == \"Acarape/CE\"].sort_values(by=\"date\", ascending=False)\n",
    "df_Redencao = df_campis[df_campis[\"city\"] == \"Redenção/CE\"].sort_values(by=\"date\", ascending=False)\n",
    "df_SFC = df_campis[df_campis[\"city\"] == \"São Francisco do Conde/BA\"].sort_values(by=\"date\", ascending=False)"
   ]
  },
  {
   "cell_type": "code",
   "execution_count": 66,
   "id": "76cafed1",
   "metadata": {},
   "outputs": [
    {
     "data": {
      "text/html": [
       "<div>\n",
       "<style scoped>\n",
       "    .dataframe tbody tr th:only-of-type {\n",
       "        vertical-align: middle;\n",
       "    }\n",
       "\n",
       "    .dataframe tbody tr th {\n",
       "        vertical-align: top;\n",
       "    }\n",
       "\n",
       "    .dataframe thead th {\n",
       "        text-align: right;\n",
       "    }\n",
       "</style>\n",
       "<table border=\"1\" class=\"dataframe\">\n",
       "  <thead>\n",
       "    <tr style=\"text-align: right;\">\n",
       "      <th></th>\n",
       "      <th>city</th>\n",
       "      <th>city_ibge_code</th>\n",
       "      <th>date</th>\n",
       "      <th>last_available_confirmed</th>\n",
       "      <th>last_available_confirmed_per_100k_inhabitants</th>\n",
       "      <th>last_available_deaths</th>\n",
       "      <th>new_confirmed</th>\n",
       "      <th>new_deaths</th>\n",
       "    </tr>\n",
       "  </thead>\n",
       "  <tbody>\n",
       "    <tr>\n",
       "      <th>3927273</th>\n",
       "      <td>São Francisco do Conde/BA</td>\n",
       "      <td>2929206</td>\n",
       "      <td>2022-04-12</td>\n",
       "      <td>4815</td>\n",
       "      <td>11840.940</td>\n",
       "      <td>73</td>\n",
       "      <td>1</td>\n",
       "      <td>0</td>\n",
       "    </tr>\n",
       "    <tr>\n",
       "      <th>3921676</th>\n",
       "      <td>São Francisco do Conde/BA</td>\n",
       "      <td>2929206</td>\n",
       "      <td>2022-04-11</td>\n",
       "      <td>4814</td>\n",
       "      <td>11838.481</td>\n",
       "      <td>73</td>\n",
       "      <td>0</td>\n",
       "      <td>0</td>\n",
       "    </tr>\n",
       "    <tr>\n",
       "      <th>3916079</th>\n",
       "      <td>São Francisco do Conde/BA</td>\n",
       "      <td>2929206</td>\n",
       "      <td>2022-04-10</td>\n",
       "      <td>4814</td>\n",
       "      <td>11838.481</td>\n",
       "      <td>73</td>\n",
       "      <td>0</td>\n",
       "      <td>0</td>\n",
       "    </tr>\n",
       "    <tr>\n",
       "      <th>3910482</th>\n",
       "      <td>São Francisco do Conde/BA</td>\n",
       "      <td>2929206</td>\n",
       "      <td>2022-04-09</td>\n",
       "      <td>4814</td>\n",
       "      <td>11838.481</td>\n",
       "      <td>73</td>\n",
       "      <td>0</td>\n",
       "      <td>0</td>\n",
       "    </tr>\n",
       "    <tr>\n",
       "      <th>3904885</th>\n",
       "      <td>São Francisco do Conde/BA</td>\n",
       "      <td>2929206</td>\n",
       "      <td>2022-04-08</td>\n",
       "      <td>4814</td>\n",
       "      <td>11838.481</td>\n",
       "      <td>73</td>\n",
       "      <td>0</td>\n",
       "      <td>0</td>\n",
       "    </tr>\n",
       "  </tbody>\n",
       "</table>\n",
       "</div>"
      ],
      "text/plain": [
       "                              city  city_ibge_code        date  \\\n",
       "3927273  São Francisco do Conde/BA         2929206  2022-04-12   \n",
       "3921676  São Francisco do Conde/BA         2929206  2022-04-11   \n",
       "3916079  São Francisco do Conde/BA         2929206  2022-04-10   \n",
       "3910482  São Francisco do Conde/BA         2929206  2022-04-09   \n",
       "3904885  São Francisco do Conde/BA         2929206  2022-04-08   \n",
       "\n",
       "         last_available_confirmed  \\\n",
       "3927273                      4815   \n",
       "3921676                      4814   \n",
       "3916079                      4814   \n",
       "3910482                      4814   \n",
       "3904885                      4814   \n",
       "\n",
       "         last_available_confirmed_per_100k_inhabitants  last_available_deaths  \\\n",
       "3927273                                      11840.940                     73   \n",
       "3921676                                      11838.481                     73   \n",
       "3916079                                      11838.481                     73   \n",
       "3910482                                      11838.481                     73   \n",
       "3904885                                      11838.481                     73   \n",
       "\n",
       "         new_confirmed  new_deaths  \n",
       "3927273              1           0  \n",
       "3921676              0           0  \n",
       "3916079              0           0  \n",
       "3910482              0           0  \n",
       "3904885              0           0  "
      ]
     },
     "execution_count": 66,
     "metadata": {},
     "output_type": "execute_result"
    }
   ],
   "source": [
    "df_SFC.head()"
   ]
  },
  {
   "cell_type": "code",
   "execution_count": 68,
   "id": "11b8a2de",
   "metadata": {
    "scrolled": false
   },
   "outputs": [
    {
     "data": {
      "text/html": [
       "<div>\n",
       "<style scoped>\n",
       "    .dataframe tbody tr th:only-of-type {\n",
       "        vertical-align: middle;\n",
       "    }\n",
       "\n",
       "    .dataframe tbody tr th {\n",
       "        vertical-align: top;\n",
       "    }\n",
       "\n",
       "    .dataframe thead th {\n",
       "        text-align: right;\n",
       "    }\n",
       "</style>\n",
       "<table border=\"1\" class=\"dataframe\">\n",
       "  <thead>\n",
       "    <tr style=\"text-align: right;\">\n",
       "      <th></th>\n",
       "      <th>city</th>\n",
       "      <th>city_ibge_code</th>\n",
       "      <th>date</th>\n",
       "      <th>last_available_confirmed</th>\n",
       "      <th>last_available_confirmed_per_100k_inhabitants</th>\n",
       "      <th>last_available_deaths</th>\n",
       "      <th>new_confirmed</th>\n",
       "      <th>new_deaths</th>\n",
       "    </tr>\n",
       "  </thead>\n",
       "  <tbody>\n",
       "    <tr>\n",
       "      <th>3094134</th>\n",
       "      <td>Acarape/CE</td>\n",
       "      <td>2300150</td>\n",
       "      <td>2021-11-15</td>\n",
       "      <td>2831</td>\n",
       "      <td>18698.811</td>\n",
       "      <td>31</td>\n",
       "      <td>0</td>\n",
       "      <td>0</td>\n",
       "    </tr>\n",
       "    <tr>\n",
       "      <th>978700</th>\n",
       "      <td>Acarape/CE</td>\n",
       "      <td>2300150</td>\n",
       "      <td>2020-11-02</td>\n",
       "      <td>1925</td>\n",
       "      <td>12714.663</td>\n",
       "      <td>15</td>\n",
       "      <td>0</td>\n",
       "      <td>0</td>\n",
       "    </tr>\n",
       "    <tr>\n",
       "      <th>2176244</th>\n",
       "      <td>Acarape/CE</td>\n",
       "      <td>2300150</td>\n",
       "      <td>2021-06-04</td>\n",
       "      <td>2660</td>\n",
       "      <td>17569.353</td>\n",
       "      <td>27</td>\n",
       "      <td>14</td>\n",
       "      <td>0</td>\n",
       "    </tr>\n",
       "    <tr>\n",
       "      <th>984296</th>\n",
       "      <td>Acarape/CE</td>\n",
       "      <td>2300150</td>\n",
       "      <td>2020-11-03</td>\n",
       "      <td>1925</td>\n",
       "      <td>12714.663</td>\n",
       "      <td>15</td>\n",
       "      <td>0</td>\n",
       "      <td>0</td>\n",
       "    </tr>\n",
       "    <tr>\n",
       "      <th>3530700</th>\n",
       "      <td>Acarape/CE</td>\n",
       "      <td>2300150</td>\n",
       "      <td>2022-02-01</td>\n",
       "      <td>3092</td>\n",
       "      <td>20422.721</td>\n",
       "      <td>33</td>\n",
       "      <td>1</td>\n",
       "      <td>0</td>\n",
       "    </tr>\n",
       "  </tbody>\n",
       "</table>\n",
       "</div>"
      ],
      "text/plain": [
       "               city  city_ibge_code        date  last_available_confirmed  \\\n",
       "3094134  Acarape/CE         2300150  2021-11-15                      2831   \n",
       "978700   Acarape/CE         2300150  2020-11-02                      1925   \n",
       "2176244  Acarape/CE         2300150  2021-06-04                      2660   \n",
       "984296   Acarape/CE         2300150  2020-11-03                      1925   \n",
       "3530700  Acarape/CE         2300150  2022-02-01                      3092   \n",
       "\n",
       "         last_available_confirmed_per_100k_inhabitants  last_available_deaths  \\\n",
       "3094134                                      18698.811                     31   \n",
       "978700                                       12714.663                     15   \n",
       "2176244                                      17569.353                     27   \n",
       "984296                                       12714.663                     15   \n",
       "3530700                                      20422.721                     33   \n",
       "\n",
       "         new_confirmed  new_deaths  \n",
       "3094134              0           0  \n",
       "978700               0           0  \n",
       "2176244             14           0  \n",
       "984296               0           0  \n",
       "3530700              1           0  "
      ]
     },
     "execution_count": 68,
     "metadata": {},
     "output_type": "execute_result"
    }
   ],
   "source": [
    "df_campis.head()"
   ]
  },
  {
   "cell_type": "code",
   "execution_count": 90,
   "id": "ec8be462",
   "metadata": {},
   "outputs": [],
   "source": [
    "df_campis = pd.concat([df_Acarape, df_Redencao, df_SFC])"
   ]
  },
  {
   "cell_type": "code",
   "execution_count": 91,
   "id": "516441d2",
   "metadata": {},
   "outputs": [],
   "source": [
    "df_campis.reset_index(inplace=True)"
   ]
  },
  {
   "cell_type": "code",
   "execution_count": 92,
   "id": "1bf2648c",
   "metadata": {
    "scrolled": true
   },
   "outputs": [],
   "source": [
    "df_campis.drop(\"index\", axis=1, inplace=True)"
   ]
  },
  {
   "cell_type": "code",
   "execution_count": 96,
   "id": "b8f09387",
   "metadata": {
    "scrolled": true
   },
   "outputs": [
    {
     "data": {
      "text/html": [
       "<div>\n",
       "<style scoped>\n",
       "    .dataframe tbody tr th:only-of-type {\n",
       "        vertical-align: middle;\n",
       "    }\n",
       "\n",
       "    .dataframe tbody tr th {\n",
       "        vertical-align: top;\n",
       "    }\n",
       "\n",
       "    .dataframe thead th {\n",
       "        text-align: right;\n",
       "    }\n",
       "</style>\n",
       "<table border=\"1\" class=\"dataframe\">\n",
       "  <thead>\n",
       "    <tr style=\"text-align: right;\">\n",
       "      <th></th>\n",
       "      <th>city</th>\n",
       "      <th>city_ibge_code</th>\n",
       "      <th>date</th>\n",
       "      <th>last_available_confirmed</th>\n",
       "      <th>last_available_confirmed_per_100k_inhabitants</th>\n",
       "      <th>last_available_deaths</th>\n",
       "      <th>new_confirmed</th>\n",
       "      <th>new_deaths</th>\n",
       "    </tr>\n",
       "  </thead>\n",
       "  <tbody>\n",
       "    <tr>\n",
       "      <th>0</th>\n",
       "      <td>Acarape/CE</td>\n",
       "      <td>2300150</td>\n",
       "      <td>2022-04-12</td>\n",
       "      <td>3174</td>\n",
       "      <td>20964.333</td>\n",
       "      <td>36</td>\n",
       "      <td>0</td>\n",
       "      <td>0</td>\n",
       "    </tr>\n",
       "    <tr>\n",
       "      <th>1</th>\n",
       "      <td>Acarape/CE</td>\n",
       "      <td>2300150</td>\n",
       "      <td>2022-04-11</td>\n",
       "      <td>3174</td>\n",
       "      <td>20964.333</td>\n",
       "      <td>36</td>\n",
       "      <td>0</td>\n",
       "      <td>0</td>\n",
       "    </tr>\n",
       "    <tr>\n",
       "      <th>2</th>\n",
       "      <td>Acarape/CE</td>\n",
       "      <td>2300150</td>\n",
       "      <td>2022-04-10</td>\n",
       "      <td>3174</td>\n",
       "      <td>20964.333</td>\n",
       "      <td>36</td>\n",
       "      <td>0</td>\n",
       "      <td>0</td>\n",
       "    </tr>\n",
       "    <tr>\n",
       "      <th>3</th>\n",
       "      <td>Acarape/CE</td>\n",
       "      <td>2300150</td>\n",
       "      <td>2022-04-09</td>\n",
       "      <td>3174</td>\n",
       "      <td>20964.333</td>\n",
       "      <td>36</td>\n",
       "      <td>0</td>\n",
       "      <td>0</td>\n",
       "    </tr>\n",
       "    <tr>\n",
       "      <th>4</th>\n",
       "      <td>Acarape/CE</td>\n",
       "      <td>2300150</td>\n",
       "      <td>2022-04-08</td>\n",
       "      <td>3174</td>\n",
       "      <td>20964.333</td>\n",
       "      <td>36</td>\n",
       "      <td>0</td>\n",
       "      <td>0</td>\n",
       "    </tr>\n",
       "  </tbody>\n",
       "</table>\n",
       "</div>"
      ],
      "text/plain": [
       "         city  city_ibge_code        date  last_available_confirmed  \\\n",
       "0  Acarape/CE         2300150  2022-04-12                      3174   \n",
       "1  Acarape/CE         2300150  2022-04-11                      3174   \n",
       "2  Acarape/CE         2300150  2022-04-10                      3174   \n",
       "3  Acarape/CE         2300150  2022-04-09                      3174   \n",
       "4  Acarape/CE         2300150  2022-04-08                      3174   \n",
       "\n",
       "   last_available_confirmed_per_100k_inhabitants  last_available_deaths  \\\n",
       "0                                      20964.333                     36   \n",
       "1                                      20964.333                     36   \n",
       "2                                      20964.333                     36   \n",
       "3                                      20964.333                     36   \n",
       "4                                      20964.333                     36   \n",
       "\n",
       "   new_confirmed  new_deaths  \n",
       "0              0           0  \n",
       "1              0           0  \n",
       "2              0           0  \n",
       "3              0           0  \n",
       "4              0           0  "
      ]
     },
     "execution_count": 96,
     "metadata": {},
     "output_type": "execute_result"
    }
   ],
   "source": [
    "df_campis.head()"
   ]
  },
  {
   "cell_type": "code",
   "execution_count": 97,
   "id": "8209c7d3",
   "metadata": {},
   "outputs": [],
   "source": [
    "df_campis.to_csv(\"df_cidades_campis.csv\", index=False)"
   ]
  }
 ],
 "metadata": {
  "kernelspec": {
   "display_name": "Python 3 (ipykernel)",
   "language": "python",
   "name": "python3"
  },
  "language_info": {
   "codemirror_mode": {
    "name": "ipython",
    "version": 3
   },
   "file_extension": ".py",
   "mimetype": "text/x-python",
   "name": "python",
   "nbconvert_exporter": "python",
   "pygments_lexer": "ipython3",
   "version": "3.9.7"
  }
 },
 "nbformat": 4,
 "nbformat_minor": 5
}
